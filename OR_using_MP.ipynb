{
  "nbformat": 4,
  "nbformat_minor": 0,
  "metadata": {
    "colab": {
      "name": "OR_using_MP.ipynb",
      "provenance": [],
      "collapsed_sections": []
    },
    "kernelspec": {
      "name": "python3",
      "display_name": "Python 3"
    }
  },
  "cells": [
    {
      "cell_type": "code",
      "metadata": {
        "id": "v6LO2QbnVGmd",
        "colab_type": "code",
        "colab": {
          "base_uri": "https://localhost:8080/",
          "height": 67
        },
        "outputId": "a22481b4-bb18-4ca0-ad9d-3645e34c7f91"
      },
      "source": [
        "import numpy as np\n",
        "\n",
        "# input weights and threshold values \n",
        "print('Enter the weights'); \n",
        "w1=float(input('Weight w1='))\n",
        "w2=float(input('Weight w2='))\n",
        "\n"
      ],
      "execution_count": 30,
      "outputs": [
        {
          "output_type": "stream",
          "text": [
            "Enter the weights\n",
            "Weight w1=-1\n",
            "Weight w2=-1\n"
          ],
          "name": "stdout"
        }
      ]
    },
    {
      "cell_type": "code",
      "metadata": {
        "id": "GefFSaeaXMij",
        "colab_type": "code",
        "colab": {}
      },
      "source": [
        "y=np.array([0, 0, 0, 0])\n",
        "x1=np.array([0, 0, 1, 1])\n",
        "x2=np.array([0, 1, 0, 1]) \n",
        "t=np.array([0, 1, 1, 1])"
      ],
      "execution_count": 31,
      "outputs": []
    },
    {
      "cell_type": "code",
      "metadata": {
        "id": "xrcpgBuYW4lr",
        "colab_type": "code",
        "colab": {
          "base_uri": "https://localhost:8080/",
          "height": 50
        },
        "outputId": "336aae6f-fdb9-4bef-aedd-ecb13a922c73"
      },
      "source": [
        "net = np.multiply(w1,x1)+np.multiply(w2,x2);\n",
        "print(net)\n",
        "\n",
        "T=float(input('T='))"
      ],
      "execution_count": 32,
      "outputs": [
        {
          "output_type": "stream",
          "text": [
            "[-0. -1. -1. -2.]\n",
            "T=-0.05\n"
          ],
          "name": "stdout"
        }
      ]
    },
    {
      "cell_type": "code",
      "metadata": {
        "id": "M6jVrXWAnSEX",
        "colab_type": "code",
        "colab": {}
      },
      "source": [
        "for i in range(0,4):\n",
        "    if net[i] >= T:\n",
        "        y[i]=1;\n",
        "    else:\n",
        "        y[i]=0;"
      ],
      "execution_count": 33,
      "outputs": []
    },
    {
      "cell_type": "code",
      "metadata": {
        "id": "rIT9Qd03-dg1",
        "colab_type": "code",
        "colab": {
          "base_uri": "https://localhost:8080/",
          "height": 84
        },
        "outputId": "e8d5ca90-6c8a-4e4f-a9cd-3958323f38cc"
      },
      "source": [
        "print('Output of net=');\n",
        "print(y);\n",
        "\n",
        "print('Target=');\n",
        "print(t);"
      ],
      "execution_count": 34,
      "outputs": [
        {
          "output_type": "stream",
          "text": [
            "Output of net=\n",
            "[1 0 0 0]\n",
            "Target=\n",
            "[0 1 1 1]\n"
          ],
          "name": "stdout"
        }
      ]
    },
    {
      "cell_type": "code",
      "metadata": {
        "id": "LskTMCyt-qdO",
        "colab_type": "code",
        "colab": {
          "base_uri": "https://localhost:8080/",
          "height": 101
        },
        "outputId": "553f6a9c-02e4-45ec-f068-6f72eef0f99a"
      },
      "source": [
        "if np.array_equal(y,t):\n",
        "    print('Network has proper weights and threshold values');\n",
        "    print('Network has worked as OR function');\n",
        "    print('Output y',y);\n",
        "    print('Weights of neuron',w1,w2);\n",
        "    print('Threshold value=',T);\n",
        "else:\n",
        "    for i in range(0,4):\n",
        "      if net[i] <= T:\n",
        "        y[i]=1;\n",
        "      else:\n",
        "        y[i]=0;\n",
        "\n",
        "    if np.array_equal(y,t):\n",
        "      print('Network has proper weights and threshold values');\n",
        "      print('Network has worked as OR function');\n",
        "      print('Output y',y);\n",
        "      print('Weights of neuron',w1,w2);\n",
        "      print('Threshold value=',T);\n",
        "    else:\n",
        "      print('Network has been given WRONG parameters; Run again and provide another set of weights and threshold values');"
      ],
      "execution_count": 35,
      "outputs": [
        {
          "output_type": "stream",
          "text": [
            "Network has proper weights and threshold values\n",
            "Network has worked as OR function\n",
            "Output y [0 1 1 1]\n",
            "Weights of neuron -1.0 -1.0\n",
            "Threshold value= -0.05\n"
          ],
          "name": "stdout"
        }
      ]
    },
    {
      "cell_type": "code",
      "metadata": {
        "id": "9J8bbH44-db3",
        "colab_type": "code",
        "colab": {}
      },
      "source": [
        ""
      ],
      "execution_count": null,
      "outputs": []
    }
  ]
}