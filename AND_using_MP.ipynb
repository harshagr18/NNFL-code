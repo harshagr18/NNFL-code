{
  "nbformat": 4,
  "nbformat_minor": 0,
  "metadata": {
    "colab": {
      "name": "AND using MP.ipynb",
      "provenance": [],
      "collapsed_sections": []
    },
    "kernelspec": {
      "name": "python3",
      "display_name": "Python 3"
    }
  },
  "cells": [
    {
      "cell_type": "code",
      "metadata": {
        "id": "v6LO2QbnVGmd",
        "colab_type": "code",
        "colab": {
          "base_uri": "https://localhost:8080/",
          "height": 85
        },
        "outputId": "d6f2c13d-a9ea-4057-dfdb-aa42bd462854"
      },
      "source": [
        "import numpy as np\n",
        "\n",
        "# input weights and threshold values \n",
        "print('Enter the weights'); \n",
        "w1=float(input('Weight w1='))\n",
        "w2=float(input('Weight w2='))\n",
        "print('Enter threshold value');\n"
      ],
      "execution_count": 8,
      "outputs": [
        {
          "output_type": "stream",
          "text": [
            "Enter the weights\n",
            "Weight w1=1\n",
            "Weight w2=1\n",
            "Enter threshold value\n"
          ],
          "name": "stdout"
        }
      ]
    },
    {
      "cell_type": "code",
      "metadata": {
        "id": "GefFSaeaXMij",
        "colab_type": "code",
        "colab": {}
      },
      "source": [
        "y=np.array([0, 0, 0, 0])\n",
        "x1=np.array([0, 0, 1, 1])\n",
        "x2=np.array([0, 1, 0, 1]) \n",
        "t=np.array([0, 0, 0, 1])"
      ],
      "execution_count": 9,
      "outputs": []
    },
    {
      "cell_type": "code",
      "metadata": {
        "id": "xrcpgBuYW4lr",
        "colab_type": "code",
        "colab": {
          "base_uri": "https://localhost:8080/",
          "height": 51
        },
        "outputId": "4f0ef034-3360-46fc-fc45-ed548e59ebe2"
      },
      "source": [
        "net = np.multiply(w1,x1)+np.multiply(w2,x2);\n",
        "print(net)\n",
        "\n",
        "T=float(input('T='))"
      ],
      "execution_count": 10,
      "outputs": [
        {
          "output_type": "stream",
          "text": [
            "[0. 1. 1. 2.]\n",
            "T=0.75\n"
          ],
          "name": "stdout"
        }
      ]
    },
    {
      "cell_type": "code",
      "metadata": {
        "id": "M6jVrXWAnSEX",
        "colab_type": "code",
        "colab": {}
      },
      "source": [
        "for i in range(0,4):\n",
        "    if net[i] >= T:\n",
        "        y[i]=1;\n",
        "    else:\n",
        "        y[i]=0;"
      ],
      "execution_count": 11,
      "outputs": []
    },
    {
      "cell_type": "code",
      "metadata": {
        "id": "rIT9Qd03-dg1",
        "colab_type": "code",
        "colab": {
          "base_uri": "https://localhost:8080/",
          "height": 85
        },
        "outputId": "336db68b-dd72-41d3-fba6-37169363d6db"
      },
      "source": [
        "print('Output of net=');\n",
        "print(y);\n",
        "\n",
        "print('Target=');\n",
        "print(t);"
      ],
      "execution_count": 12,
      "outputs": [
        {
          "output_type": "stream",
          "text": [
            "Output of net=\n",
            "[0 1 1 1]\n",
            "Target=\n",
            "[0 0 0 1]\n"
          ],
          "name": "stdout"
        }
      ]
    },
    {
      "cell_type": "code",
      "metadata": {
        "id": "LskTMCyt-qdO",
        "colab_type": "code",
        "colab": {
          "base_uri": "https://localhost:8080/",
          "height": 34
        },
        "outputId": "3f985e82-170c-448c-f25e-4dd1c0ef6a1a"
      },
      "source": [
        "if np.array_equal(y,t):\n",
        "    print('Network has proper weights and threshold values');\n",
        "    print('Network has worked as AND function');\n",
        "    print('Output y',y);\n",
        "    print('Weights of neuron',w1,w2);\n",
        "    print('Threshold value=',T);\n",
        "else:\n",
        "    print('Network has been given WRONG parameters; Run again and provide another set of weights and threshold values');"
      ],
      "execution_count": 13,
      "outputs": [
        {
          "output_type": "stream",
          "text": [
            "Network has been given WRONG parameters; Run again and provide another set of weights and threshold values\n"
          ],
          "name": "stdout"
        }
      ]
    },
    {
      "cell_type": "code",
      "metadata": {
        "id": "9J8bbH44-db3",
        "colab_type": "code",
        "colab": {}
      },
      "source": [
        ""
      ],
      "execution_count": null,
      "outputs": []
    }
  ]
}